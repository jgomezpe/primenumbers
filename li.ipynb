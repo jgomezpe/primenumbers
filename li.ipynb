{
  "nbformat": 4,
  "nbformat_minor": 0,
  "metadata": {
    "colab": {
      "provenance": [],
      "authorship_tag": "ABX9TyPK8VgwpCHeGdG0eTWlkJYe",
      "include_colab_link": true
    },
    "kernelspec": {
      "name": "python3",
      "display_name": "Python 3"
    },
    "language_info": {
      "name": "python"
    }
  },
  "cells": [
    {
      "cell_type": "markdown",
      "metadata": {
        "id": "view-in-github",
        "colab_type": "text"
      },
      "source": [
        "<a href=\"https://colab.research.google.com/github/jgomezpe/primenumbers/blob/main/li.ipynb\" target=\"_parent\"><img src=\"https://colab.research.google.com/assets/colab-badge.svg\" alt=\"Open In Colab\"/></a>"
      ]
    },
    {
      "cell_type": "markdown",
      "source": [
        "<h2>On the Stieltjes Approximation Error to Logarithmic Integral</h2>\n",
        "This colab notebook is a set of python programs used for generating computational results for the paper \"On the Stieltjes Approximation Error to Logarithmic Integral\" written by Professor <b>Jonatan Gomez</b> from <b>Universidad Nacional de Colombia</b>"
      ],
      "metadata": {
        "id": "c9IOo2Qjo-s7"
      }
    },
    {
      "cell_type": "markdown",
      "source": [
        "<h4>Table 1</h4>\n",
        "Values of Stieltjes approximation error $\\displaystyle \\varepsilon(e^{n})$ and partial approximation error $\\displaystyle \\Delta_{n-1}(e^{n})$ for $n=1,\\ldots,10$."
      ],
      "metadata": {
        "id": "LFAZNTRQpAUB"
      }
    },
    {
      "cell_type": "code",
      "source": [
        "import math\n",
        "from decimal import *\n",
        "\n",
        "# e Number\n",
        "e = Decimal.exp(Decimal(1))\n",
        "\n",
        "# pi number\n",
        "pi = Decimal('3.141592653589793238462643383279')\n",
        "\n",
        "# Values of li(x) for x = e^1, .. , e^10 first position is not used\n",
        "# computed using Wolfram alpha.\n",
        "li = [\n",
        "    Decimal(0),\n",
        "    Decimal('1.8951178163559367554665209343'),\n",
        "    Decimal('4.9542343560018901633795051302'),\n",
        "    Decimal('9.9338325706254165580083360192'),\n",
        "    Decimal('19.6308744700562200226457202797'),\n",
        "    Decimal('40.1852753558031774550914217938'),\n",
        "    Decimal('85.9897621424392048035834003080'),\n",
        "    Decimal('191.5047433355013959530631482724'),\n",
        "    Decimal('440.3798995348382689974245966594'),\n",
        "    Decimal('1037.8782907170895876575732267936'),\n",
        "    Decimal('2492.2289762418777591384401439985')\n",
        "  ]\n",
        "\n",
        "#Stieljes Approximation series li_{*}(e^n)\n",
        "def li_star(n):\n",
        "  if(n==0): return 0\n",
        "  x = e**Decimal(n)\n",
        "  s = Decimal(1)\n",
        "  p = Decimal(1)\n",
        "  for k in range(1,n):\n",
        "    p *= Decimal(k/n)\n",
        "    s += p\n",
        "  return x*s/n\n",
        "\n",
        "\n",
        "#Main\n",
        "n = len(li)\n",
        "ls = [li_star(k) for k in range(n)]\n",
        "es = [li[k] - ls[k] for k in range(n)]\n",
        "ds = [0,0] + [es[k]-es[k-1] for k in range(2,n)]\n",
        "\n",
        "# Set to True if latex table format is required. Set to False if plain table format is required\n",
        "latex = True\n",
        "\n",
        "for k in range(1,n):\n",
        "  if(latex):\n",
        "    print('$', end='')\n",
        "    print(k, es[k], ds[k], sep='$ & $', end ='')\n",
        "    print('$ \\\\\\\\')\n",
        "  else:\n",
        "    print( k, es[k], ds[k], sep=',' )\n"
      ],
      "metadata": {
        "id": "z4kTpm_VpEHz",
        "colab": {
          "base_uri": "https://localhost:8080/"
        },
        "outputId": "92be719a-3761-4634-ccb5-8e273e763cdc"
      },
      "execution_count": 2,
      "outputs": [
        {
          "output_type": "stream",
          "name": "stdout",
          "text": [
            "$1$ & $-0.8231640121031084798937665367$ & $0$ \\\\\n",
            "$2$ & $-0.5875577181960975070433154648$ & $0.2356062939070109728504510719$ \\\\\n",
            "$3$ & $-0.4808902784348553148879777308$ & $0.1066674397612421921553377340$ \\\\\n",
            "$4$ & $-0.4168837452389302638478912403$ & $0.0640065331959250510400864905$ \\\\\n",
            "$5$ & $-0.3730727637489575740985279062$ & $0.0438109814899726897493633341$ \\\\\n",
            "$6$ & $-0.3406792634135770570142899420$ & $0.0323935003353805170842379642$ \\\\\n",
            "$7$ & $-0.3154770269281499060473661276$ & $0.0252022364854271509669238144$ \\\\\n",
            "$8$ & $-0.2951478907420814934115033406$ & $0.0203291361860684126358627870$ \\\\\n",
            "$9$ & $-0.2783005394598743137107742064$ & $0.0168473512822071797007291342$ \\\\\n",
            "$10$ & $-0.2640428443818531224455710015$ & $0.0142576950780211912652032049$ \\\\\n"
          ]
        }
      ]
    },
    {
      "cell_type": "markdown",
      "source": [
        "\n",
        "<h3>Corollary 14</h3>\n",
        "$\\displaystyle \\frac{\\sqrt{2\\pi}e^{\\frac{1}{12n+1}}}{\\sqrt{n}} < \\frac{e^n n!}{n^{n+1}} < \\frac{\\sqrt{2\\pi}e^{\\frac{1}{12n}}}{\\sqrt{n}}$ for all $n \\ge 1$ natural number.\n",
        "\n",
        "<h4>Table 2</h4>"
      ],
      "metadata": {
        "id": "IMW6Ej76pBY2"
      }
    },
    {
      "cell_type": "code",
      "source": [
        "import math\n",
        "from decimal import *\n",
        "\n",
        "# e Number\n",
        "e = Decimal.exp(Decimal(1))\n",
        "\n",
        "# pi number\n",
        "pi = Decimal('3.141592653589793238462643383279')\n",
        "\n",
        "def term(n, alpha):\n",
        "  na = Decimal(n+alpha)\n",
        "  s = Decimal(1)/na\n",
        "  m = (n+1) // 2\n",
        "  if(n%2==1):\n",
        "    s *= e*Decimal(m)/na\n",
        "    m1 = m-1\n",
        "  else:\n",
        "    m1 = m\n",
        "  m2 = m + 1\n",
        "  k = 1\n",
        "  while(k<m1):\n",
        "    s *= (e*Decimal(k)/na)*(e*Decimal(n)/na)*(e*Decimal(m1)/na)*(e*Decimal(m2)/na)\n",
        "    k += 1\n",
        "    n -= 1\n",
        "    m1 -= 1\n",
        "    m2 += 1\n",
        "  if(k==m1):\n",
        "    s *= (e*Decimal(k)/na)*(e*Decimal(n)/na)\n",
        "  return s\n",
        "\n",
        "def LB2(n):\n",
        "  return Decimal.sqrt(Decimal(2)*pi)*Decimal.exp(Decimal(1)/Decimal(12*n+1))/Decimal.sqrt(Decimal(n))\n",
        "\n",
        "def RB2(n):\n",
        "  return Decimal.sqrt(Decimal(2)*pi)*e**(Decimal(1)/Decimal(12*n))/Decimal.sqrt(Decimal(n))\n",
        "\n",
        "#Main Program\n",
        "n = 1000\n",
        "T = [0] + [term(k,0) for k in range(1,n+1)]\n",
        "LB_2 = [0] + [LB2(k) for k in range(1,n+1)]\n",
        "RB_2 = [0] + [RB2(k) for k in range(1,n+1)]\n",
        "\n",
        "#Values to put in table\n",
        "idx10 = [int(10**i) for i in range(7)]\n",
        "\n",
        "T10 = [term(k,0) for k in idx10]\n",
        "LB10 = [LB2(k) for k in idx10]\n",
        "RB10 = [RB2(k) for k in idx10]\n",
        "\n",
        "# Set to True if latex table format is required. Set to False if plain table format is required\n",
        "latex = True\n",
        "\n",
        "for i in range(len(idx10)):\n",
        "  if(latex):\n",
        "    print('$', end='')\n",
        "    print(i, LB10[i]-T10[i], T10[i], RB10[i]-T10[i], sep='$ & $', end ='')\n",
        "    print('$ \\\\\\\\')\n",
        "  else:\n",
        "    print(i,  LB10[i]-T10[i], T10[i], RB10[i]-T10[i], sep=',')\n"
      ],
      "metadata": {
        "colab": {
          "base_uri": "https://localhost:8080/"
        },
        "id": "3p79yV37pWgb",
        "outputId": "f4a7de38-cd49-46e8-e49d-ed18f8b5cfac"
      },
      "execution_count": 3,
      "outputs": [
        {
          "output_type": "stream",
          "name": "stdout",
          "text": [
            "$0$ & $-0.011226065050148119403644802$ & $2.718281828459045235360287471$ & $0.006182593881800261451647037$ \\\\\n",
            "$1$ & $-0.0000528322436057585125847034$ & $0.7992963907619461289673682987$ & $0.0000022139741154039621287893$ \\\\\n",
            "$2$ & $-1.733745617754915471679E-7$ & $0.2508717995156920341603934988$ & $6.968462017664198794E-10$ \\\\\n",
            "$3$ & $-5.5024192153110102283E-10$ & $0.07927315177263473494912025995$ & $2.2020313645359372E-13$ \\\\\n",
            "$4$ & $-1.74064445046160369E-12$ & $0.02506649163286984743585550764$ & $6.962914325796E-17$ \\\\\n",
            "$5$ & $-5.504599228068346E-15$ & $0.007926661200760270326077674830$ & $2.2018606674E-20$ \\\\\n",
            "$6$ & $-1.7407133507833E-17$ & $0.002506628483516698758562492062$ & $7.288214E-24$ \\\\\n"
          ]
        }
      ]
    },
    {
      "cell_type": "markdown",
      "source": [
        "<h3>Lemma 27</h3>\n",
        "$\\displaystyle \\frac{e^n n!}{n^{n+1}} \\sim  \\frac{\\sqrt{2\\pi}\\left(e^{\\frac{1}{12n}} + e^{\\frac{1}{12n+1}}\\right)}{2\\sqrt{n}} \\pm \\frac{\\sqrt{2\\pi}\\left(e^{\\frac{1}{12n}} - e^{\\frac{1}{12n+1}}\\right)}{2\\sqrt{n}}$ for all $n \\ge 1$ natural number.\n",
        "\n",
        "<h4>Table 3</h4>"
      ],
      "metadata": {
        "id": "oJ9d-reErrEy"
      }
    },
    {
      "cell_type": "code",
      "source": [
        "import math\n",
        "from decimal import *\n",
        "\n",
        "# e Number\n",
        "e = Decimal.exp(Decimal(1))\n",
        "\n",
        "# pi number\n",
        "pi = Decimal('3.141592653589793238462643383279')\n",
        "\n",
        "def term(n, alpha):\n",
        "  na = Decimal(n+alpha)\n",
        "  s = Decimal(1)/na\n",
        "  m = (n+1) // 2\n",
        "  if(n%2==1):\n",
        "    s *= e*Decimal(m)/na\n",
        "    m1 = m-1\n",
        "  else:\n",
        "    m1 = m\n",
        "  m2 = m + 1\n",
        "  k = 1\n",
        "  while(k<m1):\n",
        "    s *= (e*Decimal(k)/na)*(e*Decimal(n)/na)*(e*Decimal(m1)/na)*(e*Decimal(m2)/na)\n",
        "    k += 1\n",
        "    n -= 1\n",
        "    m1 -= 1\n",
        "    m2 += 1\n",
        "  if(k==m1):\n",
        "    s *= (e*Decimal(k)/na)*(e*Decimal(n)/na)\n",
        "  return s\n",
        "\n",
        "def LB2(n):\n",
        "  return Decimal.sqrt(Decimal(2)*pi)*Decimal.exp(Decimal(1)/Decimal(12*n+1))/Decimal.sqrt(Decimal(n))\n",
        "\n",
        "def RB2(n):\n",
        "  return Decimal.sqrt(Decimal(2)*pi)*e**(Decimal(1)/Decimal(12*n))/Decimal.sqrt(Decimal(n))\n",
        "\n",
        "#Main Program\n",
        "n = 1000\n",
        "T = [0] + [term(k,0) for k in range(1,n+1)]\n",
        "LB_2 = [0] + [LB2(k) for k in range(1,n+1)]\n",
        "RB_2 = [0] + [RB2(k) for k in range(1,n+1)]\n",
        "\n",
        "#Values to put in table\n",
        "idx10 = [int(10**i) for i in range(7)]\n",
        "\n",
        "# Main program\n",
        "AVG_3 = [(RB10[i]+LB10[i])/2 for i in range(len(RB10))]\n",
        "DVT_3 = [(RB10[i]-LB10[i])/2 for i in range(len(RB10))]\n",
        "\n",
        "for i in range(len(idx10)):\n",
        "  if(latex):\n",
        "    print('$10^',i, '$ & $', AVG_3[i], ' \\\\pm ', DVT_3[i], '$ \\\\\\\\', sep='')\n",
        "  else:\n",
        "    print('10^', i, ',',  AVG_3[i], '+/-', DVT_3[i], sep='')"
      ],
      "metadata": {
        "colab": {
          "base_uri": "https://localhost:8080/"
        },
        "id": "L7YnbZ34rwCq",
        "outputId": "abc662cb-3ec5-4d61-8273-47a6cec5ed42"
      },
      "execution_count": 4,
      "outputs": [
        {
          "output_type": "stream",
          "name": "stdout",
          "text": [
            "$10^0$ & $2.715760092874871306384288588 \\pm 0.0087043294659741904276459195$ \\\\\n",
            "$10^1$ & $0.7992710816272009516921403415 \\pm 0.00002752310886058123735674635$ \\\\\n",
            "$10^2$ & $0.2508717131768342472978298546 \\pm 8.703570398862898352365E-8$ \\\\\n",
            "$10^3$ & $0.0792731514976238757517965454 \\pm 2.75231062333777308275E-10$ \\\\\n",
            "$10^4$ & $0.02506649163199956002519633478 \\pm 8.70357039802430825E-13$ \\\\\n",
            "$10^5$ & $0.007926661200757518037472943995 \\pm 2.752310623337510E-15$ \\\\\n",
            "$10^6$ & $0.002506628483516690054999382252 \\pm 8.7035703980235E-18$ \\\\\n"
          ]
        }
      ]
    },
    {
      "cell_type": "markdown",
      "source": [
        "<h3>Corollary 34</h3>\n",
        "\n",
        "$\\displaystyle \\frac{2\\sqrt{2\\pi}e^{\\frac{1}{12n+1}-\\frac{1}{8n}}}{\\sqrt{n+1}+\\sqrt{n}} < \\int_{e^{n}}^{e^{n+1}}\\frac{n!}{\\log^{n+1}(t)}dt < \\frac{2\\sqrt{2\\pi}e^{\\frac{1}{12n}}}{\\sqrt{n+1}+\\sqrt{n}}$ for all natural number $n \\ge 1$.\n",
        "\n",
        "<h4>Table 4</h4>"
      ],
      "metadata": {
        "id": "7KHwg8YkD2c6"
      }
    },
    {
      "cell_type": "code",
      "execution_count": null,
      "metadata": {
        "colab": {
          "base_uri": "https://localhost:8080/"
        },
        "id": "3H6nBk9VDkoF",
        "outputId": "a2c55545-9855-49fb-f673-053e6fcbaf59"
      },
      "outputs": [
        {
          "output_type": "stream",
          "name": "stdout",
          "text": [
            "$2$ & $-0.036536509615921628044494070$ & $1.594484989800033371141058309$ & $0.066708885161259192127515382$ \\\\\n",
            "$3$ & $-0.019874783050848391396110817$ & $1.343650674883331212110996753$ & $0.037484283293606383593881457$ \\\\\n",
            "$4$ & $-0.012916385831305003731384588$ & $1.183624043812015304667114720$ & $0.024759523737893199741295233$ \\\\\n",
            "$5$ & $-0.009249906091240605375031703$ & $1.070018998559078581354658700$ & $0.017900796575178896739704593$ \\\\\n",
            "$6$ & $-0.0070424493177274484508606036$ & $0.9839571219691467587323077784$ & $0.0137132211568700191377387321$ \\\\\n",
            "$7$ & $-0.0055927813317709887071628080$ & $0.9158310042837486950550655799$ & $0.0109372580276274833873167270$ \\\\\n",
            "$8$ & $-0.0045806306044902229949478587$ & $0.8601593434129090722753902253$ & $0.0089861046925288791539937377$ \\\\\n",
            "$9$ & $-0.0038410120626200084789436645$ & $0.8135540870907008375599421416$ & $0.0075532109271444997178229751$ \\\\\n",
            "$10$ & $-0.0032811579312479623939158524$ & $0.7737924687208366128234991457$ & $0.0064644161026914187533459261$ \\\\\n",
            "$50$ & $-0.0002949363777233845989160340$ & $0.3527359572955125494515837175$ & $0.0005882482928800908552228687$ \\\\\n",
            "$100$ & $-0.0001043962808896014338187590$ & $0.2500393457589112099805911729$ & $0.0002083913874135144564242229$ \\\\\n",
            "$500$ & $-0.0000093587474172565405997976$ & $0.1120438494347728876905352909$ & $0.0000186564889528131738030609$ \\\\\n",
            "$1000$ & $-0.00000331570889839414247427811$ & $0.07924675249772687954976221887$ & $0.00000659089013993342728500442$ \\\\\n"
          ]
        }
      ],
      "source": [
        "import math\n",
        "from decimal import *\n",
        "\n",
        "# e Number\n",
        "e = Decimal.exp(Decimal(1))\n",
        "\n",
        "# pi number\n",
        "pi = Decimal('3.141592653589793238462643383279')\n",
        "\n",
        "def term(n, alpha):\n",
        "  na = Decimal(n+alpha)\n",
        "  s = Decimal(1)/na\n",
        "  m = (n+1) // 2\n",
        "  if(n%2==1):\n",
        "    s *= e*Decimal(m)/na\n",
        "    m1 = m-1\n",
        "  else:\n",
        "    m1 = m\n",
        "  m2 = m + 1\n",
        "  k = 1\n",
        "  while(k<m1):\n",
        "    s *= (e*Decimal(k)/na)*(e*Decimal(n)/na)*(e*Decimal(m1)/na)*(e*Decimal(m2)/na)\n",
        "    k += 1\n",
        "    n -= 1\n",
        "    m1 -= 1\n",
        "    m2 += 1\n",
        "  if(k==m1):\n",
        "    s *= (e*Decimal(k)/na)*(e*Decimal(n)/na)\n",
        "  return s\n",
        "\n",
        "def integral(n):\n",
        "  m = max(int(10**(5-math.log10(n))),1000)\n",
        "  s = 0\n",
        "  a = term(n,0)\n",
        "  for i in range(1, m+1):\n",
        "    b = term(n,i/m)\n",
        "    s += ((a+b)/Decimal(2))*(Decimal.exp(Decimal(i/m))-Decimal.exp(Decimal((i-1)/m)))\n",
        "    a = b\n",
        "  return s\n",
        "\n",
        "def LB_I(n):\n",
        "  return Decimal.sqrt(Decimal(2)*pi)*Decimal(2)*Decimal.exp(Decimal(1/(12*n+1)-1/(8*n)))/(Decimal.sqrt(Decimal(n+1))+Decimal.sqrt(Decimal(n)))\n",
        "\n",
        "def RB_I(n):\n",
        "  return Decimal.sqrt(Decimal(2)*pi)*Decimal(2)*Decimal.exp(Decimal(1/(12*n)))/(Decimal.sqrt(Decimal(n+1))+Decimal.sqrt(Decimal(n)))\n",
        "\n",
        "#Main\n",
        "idx = [k for k in range(2,11)] + [50, 100, 500, 1000]\n",
        "I = [integral(k) for k in idx]\n",
        "LB = [LB_I(k) for k in idx]\n",
        "RB = [RB_I(k) for k in idx]\n",
        "\n",
        "# Set to True if latex table format is required. Set to False if plain table format is required\n",
        "latex = True\n",
        "\n",
        "for i in range(len(idx)):\n",
        "  if(latex):\n",
        "    print('$', end='')\n",
        "    print(idx[i], LB[i]-I[i], I[i], RB[i]-I[i], sep='$ & $', end ='')\n",
        "    print('$ \\\\\\\\')\n",
        "  else:\n",
        "    print(idx[i], LB[i], I[i], RB[i], sep=',')\n"
      ]
    },
    {
      "cell_type": "markdown",
      "source": [
        "<h3>Corollary 36</h3>\n",
        "$\\displaystyle \\int_{e^{n}}^{e^{n+1}}\\frac{n!}{\\log^{n+1}(t)}dt \\sim \\frac{\\sqrt{2\\pi}\\kappa(n)}{\\sqrt{n+1}+\\sqrt{n}} \\pm \\frac{\\sqrt{2\\pi}\\tau(n)}{\\sqrt{n+1}+\\sqrt{n}}$ for all natural number $n \\ge 1$. Here, $\\displaystyle \\kappa(n)=e^{\\frac{1}{12n}} + e^{\\frac{1}{12n+1}-\\frac{1}{8n}}$ and $\\displaystyle \\tau(n)=e^{\\frac{1}{12n}} - e^{\\frac{1}{12n+1}-\\frac{1}{8n}}$.\n",
        "<h4>Table 5</h4>\n"
      ],
      "metadata": {
        "id": "Uu7C8WW2oS_m"
      }
    },
    {
      "cell_type": "code",
      "source": [
        "import math\n",
        "from decimal import *\n",
        "\n",
        "# e Number\n",
        "e = Decimal.exp(Decimal(1))\n",
        "\n",
        "# pi number\n",
        "pi = Decimal('3.141592653589793238462643383279')\n",
        "\n",
        "def LB_I(n):\n",
        "  return Decimal.sqrt(Decimal(2)*pi)*Decimal(2)*Decimal.exp(Decimal(1/(12*n+1)-1/(8*n)))/(Decimal.sqrt(Decimal(n+1))+Decimal.sqrt(Decimal(n)))\n",
        "\n",
        "def RB_I(n):\n",
        "  return Decimal.sqrt(Decimal(2)*pi)*Decimal(2)*Decimal.exp(Decimal(1/(12*n)))/(Decimal.sqrt(Decimal(n+1))+Decimal.sqrt(Decimal(n)))\n",
        "\n",
        "# Main program\n",
        "idx10 = [int(10**i) for i in range(7)]\n",
        "LBI10 = [LB_I(k) for k in idx10]\n",
        "RBI10 = [RB_I(k) for k in idx10]\n",
        "AVG_I = [(RBI10[i]+LBI10[i])/2 for i in range(len(idx10))]\n",
        "DV_I = [(RBI10[i]-LBI10[i])/2 for i in range(len(idx10))]\n",
        "\n",
        "# Set to True if latex table format is required. Set to False if plain table format is required\n",
        "latex = True\n",
        "\n",
        "for i in range(len(idx10)):\n",
        "  if(latex):\n",
        "    print('$10^', i, '$ & $', AVG_I[i], ' \\\\pm ', DV_I[i], '$ \\\\\\\\', sep='')\n",
        "  else:\n",
        "    print('10^', i, ',', AVG_I[i], '+/-', DV_I[i], sep='')"
      ],
      "metadata": {
        "colab": {
          "base_uri": "https://localhost:8080/"
        },
        "id": "WpHWdlFablyV",
        "outputId": "8d7bb5f3-7786-4725-e4d7-57eabba44122"
      },
      "execution_count": null,
      "outputs": [
        {
          "output_type": "stream",
          "name": "stdout",
          "text": [
            "$10^0$ & $2.118053194783079987102615508 \\pm 0.1389670330900363583322754905$ \\\\\n",
            "$10^1$ & $0.7753840978065583410032141825 \\pm 0.00487278701696969057363088925$ \\\\\n",
            "$10^2$ & $0.2500913433121731664918939048 \\pm 0.00015639383415155794512149095$ \\\\\n",
            "$10^3$ & $0.0792483900883476491921675820 \\pm 0.000004953299519163784879641265$ \\\\\n",
            "$10^4$ & $0.02506570834036279660557431872 \\pm 1.5666154745507000850602E-7$ \\\\\n",
            "$10^5$ & $0.007926636430055830006892171465 \\pm 4.954150521086271652568E-9$ \\\\\n",
            "$10^6$ & $0.002506627700195651241964030692 \\pm 1.56664239965795681979E-10$ \\\\\n"
          ]
        }
      ]
    },
    {
      "cell_type": "markdown",
      "source": [
        "<h3>Estimating $\\Delta_{n}$</h3>\n",
        "<h4>Table 6</h4>\n",
        "Comparing the computed value of $\\Delta_{n}$  (last column in Table 1) and values estimated by definition using a $\\displaystyle \\max\\{10^{5-\\lfloor\\log_{10}(n)\\rfloor},1000\\}$ points middle Riemann sum for estimating the integral term of the partial error ($\\displaystyle \\Delta_{n}^{RS}$) for $n=2,\\ldots,10$."
      ],
      "metadata": {
        "id": "mgQu_UM_xFKN"
      }
    },
    {
      "cell_type": "code",
      "source": [
        "import math\n",
        "from decimal import *\n",
        "\n",
        "# e Number\n",
        "e = Decimal.exp(Decimal(1))\n",
        "\n",
        "# pi number\n",
        "pi = Decimal('3.141592653589793238462643383279')\n",
        "\n",
        "def term(n, alpha):\n",
        "  na = Decimal(n+alpha)\n",
        "  s = Decimal(1)/na\n",
        "  m = (n+1) // 2\n",
        "  if(n%2==1):\n",
        "    s *= e*Decimal(m)/na\n",
        "    m1 = m-1\n",
        "  else:\n",
        "    m1 = m\n",
        "  m2 = m + 1\n",
        "  k = 1\n",
        "  while(k<m1):\n",
        "    s *= (e*Decimal(k)/na)*(e*Decimal(n)/na)*(e*Decimal(m1)/na)*(e*Decimal(m2)/na)\n",
        "    k += 1\n",
        "    n -= 1\n",
        "    m1 -= 1\n",
        "    m2 += 1\n",
        "  if(k==m1):\n",
        "    s *= (e*Decimal(k)/na)*(e*Decimal(n)/na)\n",
        "  return s\n",
        "\n",
        "def integral(n):\n",
        "  m = max(int(10**(5-math.log10(n))),1000)\n",
        "  s = 0\n",
        "  a = term(n,0)\n",
        "  for i in range(1, m+1):\n",
        "    b = term(n,i/m)\n",
        "    s += ((a+b)/Decimal(2))*(Decimal.exp(Decimal(i/m))-Decimal.exp(Decimal((i-1)/m)))\n",
        "    a = b\n",
        "  return s\n",
        "\n",
        "#Main program\n",
        "T = [0] + [term(k,0) for k in range(1,11)]\n",
        "I = [0] + [integral(k) for k in range(1,11)]\n",
        "DS = [0,0] + [ds[k]-(I[k-1]-T[k]) for k in range(2,11)]\n",
        "\n",
        "for i in range(2, 11):\n",
        "  if(latex):\n",
        "    print('$', end='')\n",
        "    print(i, ds[i], DS[i], sep='$ & $', end ='')\n",
        "    print('$ \\\\\\\\')\n",
        "  else:\n",
        "    print(i, ds[i], DS[i], sep=',')"
      ],
      "metadata": {
        "colab": {
          "base_uri": "https://localhost:8080/"
        },
        "id": "JvoQG1Eqxptg",
        "outputId": "7e568c26-2059-4a63-e2d6-9c02207b41be"
      },
      "execution_count": null,
      "outputs": [
        {
          "output_type": "stream",
          "name": "stdout",
          "text": [
            "$2$ & $0.2356062939070113596360304389$ & $-7.91419121818074901E-11$ \\\\\n",
            "$3$ & $0.1066674397612434081903999240$ & $-1.730367969559524850E-10$ \\\\\n",
            "$4$ & $0.0640065331959269680336813805$ & $-2.855861406841061265E-10$ \\\\\n",
            "$5$ & $0.0438109814899777452053260141$ & $-4.142492451876210529E-10$ \\\\\n",
            "$6$ & $0.0323935003353987701555997642$ & $-5.571800102515610438E-10$ \\\\\n",
            "$7$ & $0.0252022364854572135873775144$ & $-7.132644532312371468E-10$ \\\\\n",
            "$8$ & $0.0203291361862090463442324870$ & $-8.812917024062910166E-10$ \\\\\n",
            "$9$ & $0.0168473512825645417860516342$ & $-1.0605085642483609063E-9$ \\\\\n",
            "$10$ & $0.0142576950789569055992642049$ & $-1.2497978029933096380E-9$ \\\\\n"
          ]
        }
      ]
    },
    {
      "cell_type": "markdown",
      "source": [
        "<h3>Corollary 39</h3>\n",
        "$\\displaystyle  \\Delta_{n} \\sim \\frac{\\Delta_{n}^{R} + \\Delta_{n}^{L}}{2} \\pm \\frac{\\Delta_{n}^{R} - \\Delta_{n}^{L}}{2}$ for all $n\\ge 2$ natural number. Here, $\\displaystyle  \\Delta_{n}^{L} = \\sqrt{2\\pi}\\left(\\frac{2\\omega_{n-1}}{\\sqrt{n}+\\sqrt{n-1}} - \\frac{\\kappa_n}{\\sqrt{n}}\\right)$ and $\\displaystyle  \\Delta_{n}^{R} = \\sqrt{2\\pi}\\left(\\frac{2\\kappa_{n-1}}{\\sqrt{n}+\\sqrt{n-1}} - \\frac{\\nu_{n}}{\\sqrt{n}}\\right)$.\n",
        "<h4>Table 7</h4>\n"
      ],
      "metadata": {
        "id": "Y3koj0WAz2SX"
      }
    },
    {
      "cell_type": "code",
      "source": [
        "import math\n",
        "from decimal import *\n",
        "\n",
        "# e Number\n",
        "e = Decimal.exp(Decimal(1))\n",
        "\n",
        "# pi number\n",
        "pi = Decimal('3.141592653589793238462643383279')\n",
        "\n",
        "def LB2(n):\n",
        "  return Decimal.sqrt(Decimal(2)*pi)*Decimal.exp(Decimal(1)/Decimal(12*n+1))/Decimal.sqrt(Decimal(n))\n",
        "\n",
        "def RB2(n):\n",
        "  return Decimal.sqrt(Decimal(2)*pi)*e**(Decimal(1)/Decimal(12*n))/Decimal.sqrt(Decimal(n))\n",
        "\n",
        "def LB_I(n):\n",
        "  return Decimal.sqrt(Decimal(2)*pi)*Decimal(2)*Decimal.exp(Decimal(1/(12*n+1)-1/(8*n)))/(Decimal.sqrt(Decimal(n+1))+Decimal.sqrt(Decimal(n)))\n",
        "\n",
        "def RB_I(n):\n",
        "  return Decimal.sqrt(Decimal(2)*pi)*Decimal(2)*Decimal.exp(Decimal(1/(12*n)))/(Decimal.sqrt(Decimal(n+1))+Decimal.sqrt(Decimal(n)))\n",
        "\n",
        "def deltaL(n):\n",
        "  if(n==1): return 0\n",
        "  return LB_I(n-1) - LB2(n)\n",
        "\n",
        "def deltaU(n):\n",
        "  if(n==1): return 0\n",
        "  return RB_I(n-1) - RB2(n)\n",
        "\n",
        "#Main program\n",
        "idx10 = [int(10**i) for i in range(7)]\n",
        "dl = [deltaL(k) for k in idx10]\n",
        "du = [deltaU(k) for k in idx10]\n",
        "avg = [(du[k]+dl[k])/Decimal(2) for k in range(len(idx10))]\n",
        "dvt = [(du[k]-dl[k])/Decimal(2) for k in range(len(idx10))]\n",
        "\n",
        "for k in range(1,len(idx10)):\n",
        "  if(latex):\n",
        "    print('$10^', k, '$ & $', avg[k], ' \\\\pm ', dvt[k], '$ \\\\\\\\', sep='')\n",
        "  else:\n",
        "    print('10^', k, ',', avg[k], ' +/- ', dvt[k], sep='')"
      ],
      "metadata": {
        "colab": {
          "base_uri": "https://localhost:8080/"
        },
        "id": "q4zhb8bmqBBA",
        "outputId": "6610bff2-5b1c-47cb-8805-e5ad56536cb9"
      },
      "execution_count": null,
      "outputs": [
        {
          "output_type": "stream",
          "name": "stdout",
          "text": [
            "$10^1$ & $0.01613910489576213148724145525 \\pm 0.00566958838602167286102657345$ \\\\\n",
            "$10^2$ & $0.0004737725472258882945041969 \\pm 0.0001586796186515006985475321$ \\\\\n",
            "$10^3$ & $0.00001487435497330438895226137 \\pm 0.00000496046267440435281340730$ \\\\\n",
            "$10^4$ & $4.7003033825329009042993E-7 \\pm 1.5668417899587190809051E-7$ \\\\\n",
            "$10^5$ & $1.48625960602443028121565E-8 \\pm 4.9542220818763670379925E-9$ \\\\\n",
            "$10^6$ & $4.699931768350472640285E-10 \\pm 1.566644662588517648535E-10$ \\\\\n"
          ]
        }
      ]
    },
    {
      "cell_type": "markdown",
      "source": [
        "<h3>Corollary 41</h3>\n",
        "$\\displaystyle  \\Delta_{n} \\sim \\frac{\\Delta_{n}^{R*}(e^{n})+\\Delta_{n}^{L*}}{2} \\pm \\frac{\\Delta_{n}^{R*}-\\Delta_{n}^{L*}}{2}$ for all $n\\ge 2$ natural number. Here, $\\displaystyle  \\Delta_{n}^{L*} = \\frac{\\sqrt{2\\pi}}{8n^{\\frac{3}{2}}}$ and $\\Delta_{n}^{R*} = \\frac{\\sqrt{2\\pi}(n+2)}{4n^{\\frac{5}{2}}}$\n",
        "\n",
        "<h4>Table 8</h4>\n",
        "Remember to run previous cells"
      ],
      "metadata": {
        "id": "MxGOQQID1OOu"
      }
    },
    {
      "cell_type": "code",
      "source": [
        "import math\n",
        "from decimal import *\n",
        "\n",
        "# e Number\n",
        "e = Decimal.exp(Decimal(1))\n",
        "\n",
        "# pi number\n",
        "pi = Decimal('3.141592653589793238462643383279')\n",
        "\n",
        "def deltaLstar(n):\n",
        "  return Decimal.sqrt(Decimal(2)*pi)/(Decimal(8)*Decimal(n)**Decimal(1.5))\n",
        "\n",
        "def deltaUstar(n):\n",
        "  return Decimal.sqrt(Decimal(2)*pi)*Decimal(n+2)/(Decimal(4)*Decimal(n)**Decimal(2.5))\n",
        "\n",
        "#Main program\n",
        "idx10 = [int(10**i) for i in range(7)]\n",
        "dl = [deltaLstar(k) for k in idx10]\n",
        "du = [deltaUstar(k) for k in idx10]\n",
        "avg = [(du[k]+dl[k])/Decimal(2) for k in range(len(idx10))]\n",
        "dvt = [(du[k]-dl[k])/Decimal(2) for k in range(len(idx10))]\n",
        "\n",
        "for k in range(1,len(idx10)):\n",
        "  if(latex):\n",
        "    print('$10^', k, '$ & $', avg[k], ' \\\\pm ', dvt[k], '$ \\\\\\\\', sep='')\n",
        "  else:\n",
        "    print('10^', k, ',', avg[k], ' +/- ', dvt[k], sep='')"
      ],
      "metadata": {
        "colab": {
          "base_uri": "https://localhost:8080/"
        },
        "id": "u-3eJbgk1Mj_",
        "outputId": "2d7151af-7713-440a-a7f0-524a4fd168e4"
      },
      "execution_count": null,
      "outputs": [
        {
          "output_type": "stream",
          "name": "stdout",
          "text": [
            "$10^1$ & $0.01684414101482554680671637226 \\pm 0.006935822770810519273353800335$ \\\\\n",
            "$10^2$ & $0.0004762593721798900954589954042 \\pm 0.0001629308378510150326570247436$ \\\\\n",
            "$10^3$ & $0.00001488229400251057135511058302 \\pm 0.000004973975758495543821748011097$ \\\\\n",
            "$10^4$ & $4.700554672001783692155163850E-7 \\pm 1.567269328713033064135457244E-7$ \\\\\n",
            "$10^5$ & $1.486267553238742160059452512E-8 \\pm 4.954357288372394067231953202E-9$ \\\\\n",
            "$10^6$ & $4.699934281503812519530815949E-10 \\pm 1.566648938215061891511109343E-10$ \\\\\n"
          ]
        }
      ]
    },
    {
      "cell_type": "markdown",
      "source": [
        "<h3>Estimating $\\varepsilon_{*}(e^{n})$</h3>\n",
        "\n",
        "<h4>Tables 9</h4>\n",
        "Values of $\\varepsilon_n$ according to Lemma 12"
      ],
      "metadata": {
        "id": "WMrptkIMnSdn"
      }
    },
    {
      "cell_type": "code",
      "source": [
        "import math\n",
        "from decimal import *\n",
        "\n",
        "# e Number\n",
        "e = Decimal.exp(Decimal(1))\n",
        "\n",
        "# pi number\n",
        "pi = Decimal('3.141592653589793238462643383279')\n",
        "\n",
        "# Values of li(x) for x = e^1, .. , e^10 first position is not used\n",
        "# computed using Wolfram alpha.\n",
        "li = [\n",
        "    Decimal(0),\n",
        "    Decimal('1.8951178163559367554665209343'),\n",
        "    Decimal('4.9542343560018901633795051302'),\n",
        "    Decimal('9.9338325706254165580083360192'),\n",
        "    Decimal('19.6308744700562200226457202797'),\n",
        "    Decimal('40.1852753558031774550914217938'),\n",
        "    Decimal('85.9897621424392048035834003080'),\n",
        "    Decimal('191.5047433355013959530631482724'),\n",
        "    Decimal('440.3798995348382689974245966594'),\n",
        "    Decimal('1037.8782907170895876575732267936'),\n",
        "    Decimal('2492.2289762418777591384401439985')\n",
        "  ]\n",
        "\n",
        "#Stieljes Approximation series li_{*}(e^n)\n",
        "def li_star(n):\n",
        "  if(n==0): return 0\n",
        "  x = e**Decimal(n)\n",
        "  s = Decimal(1)\n",
        "  p = Decimal(1)\n",
        "  for k in range(1,n):\n",
        "    p *= Decimal(k/n)\n",
        "    s += p\n",
        "  return x*s/n\n",
        "\n",
        "def term(n, alpha):\n",
        "  na = Decimal(n+alpha)\n",
        "  s = Decimal(1)/na\n",
        "  m = (n+1) // 2\n",
        "  if(n%2==1):\n",
        "    s *= e*Decimal(m)/na\n",
        "    m1 = m-1\n",
        "  else:\n",
        "    m1 = m\n",
        "  m2 = m + 1\n",
        "  k = 1\n",
        "  while(k<m1):\n",
        "    s *= (e*Decimal(k)/na)*(e*Decimal(n)/na)*(e*Decimal(m1)/na)*(e*Decimal(m2)/na)\n",
        "    k += 1\n",
        "    n -= 1\n",
        "    m1 -= 1\n",
        "    m2 += 1\n",
        "  if(k==m1):\n",
        "    s *= (e*Decimal(k)/na)*(e*Decimal(n)/na)\n",
        "  return s\n",
        "\n",
        "def integral(n):\n",
        "  m = max(int(10**(5-math.log10(n))),1000)\n",
        "  s = 0\n",
        "  a = term(n,0)\n",
        "  for i in range(1, m+1):\n",
        "    b = term(n,i/m)\n",
        "    s += ((a+b)/Decimal(2))*(Decimal.exp(Decimal(i/m))-Decimal.exp(Decimal((i-1)/m)))\n",
        "    a = b\n",
        "  return s\n",
        "\n",
        "#Main program\n",
        "n = len(li)\n",
        "ls = [li_star(k) for k in range(n)]\n",
        "es = [li[k] - ls[k] for k in range(n)]\n",
        "\n",
        "T = [0] + [term(k,0) for k in range(1,11)]\n",
        "I = [0] + [integral(k) for k in range(1,11)]\n",
        "DS = [0,0] + [(I[k-1]-T[k]) for k in range(2,11)]\n",
        "ES = [0, es[1]]\n",
        "\n",
        "for k in range(2,len(DS)):\n",
        "  ES.append(ES[k-1]+DS[k])\n",
        "\n",
        "for k in range(len(ES)):\n",
        "  if(latex):\n",
        "    print('$', k, '$ & $ ', ES[k], '$ & $', ES[k]-es[k], '$ \\\\\\\\', sep ='' )\n",
        "  else:\n",
        "    print( k, ', ', ES[k], ', ', ES[k]-es[k], sep ='' )"
      ],
      "metadata": {
        "colab": {
          "base_uri": "https://localhost:8080/"
        },
        "id": "MOKwYF20ZqZb",
        "outputId": "d2781632-1f16-4123-8af5-7b02ab0c9ca3"
      },
      "execution_count": 5,
      "outputs": [
        {
          "output_type": "stream",
          "name": "stdout",
          "text": [
            "$0$ & $ 0$ & $0$ \\\\\n",
            "$1$ & $ -0.8231640121031084798937665367$ & $0E-28$ \\\\\n",
            "$2$ & $ -0.5875577181169552080759286077$ & $7.91422989673868571E-11$ \\\\\n",
            "$3$ & $ -0.4808902781826750029295761987$ & $2.521803119584015321E-10$ \\\\\n",
            "$4$ & $ -0.4168837447011618942117886917$ & $5.377683696361025486E-10$ \\\\\n",
            "$5$ & $ -0.3730727627969349038188416247$ & $9.520226702796862815E-10$ \\\\\n",
            "$6$ & $ -0.3406792619043561234116808167$ & $1.5092209336026091253E-9$ \\\\\n",
            "$7$ & $ -0.3154770247056344565930661555$ & $2.2225154494542999721E-9$ \\\\\n",
            "$8$ & $ -0.2951478876381337078425426519$ & $3.1039477855689606887E-9$ \\\\\n",
            "$9$ & $ -0.2783005352950606018081301114$ & $4.1648137119026440950E-9$ \\\\\n",
            "$10$ & $ -0.2640428389663058932155562685$ & $5.4155472292300147330E-9$ \\\\\n"
          ]
        }
      ]
    },
    {
      "cell_type": "markdown",
      "source": [
        "<h2>Lemma 46</h2>\n",
        "$\\displaystyle  \\varepsilon_{m} + \\frac{\\sqrt{2\\pi}}{8}\\sum_{k=m+1}^{n} \\frac{1}{k^{\\frac{3}{2}}} \\le \\varepsilon_{n} \\le \\varepsilon_{m} + \\frac{\\sqrt{2\\pi}}{4}\\sum_{k=m+1}^{n} \\frac{k+2}{k^{\\frac{5}{2}}}$ for all natural number $n\\ge 1$ and all $1 \\le m < n$.   \n",
        "<h4>Tables 10</h4>\n",
        "$m=1$\n",
        "<h4>Tables 11</h4>\n",
        "$m=10$"
      ],
      "metadata": {
        "id": "LUsmke4jZ7k8"
      }
    },
    {
      "cell_type": "code",
      "source": [
        "import math\n",
        "from decimal import *\n",
        "\n",
        "# e Number\n",
        "e = Decimal.exp(Decimal(1))\n",
        "\n",
        "# pi number\n",
        "pi = Decimal('3.141592653589793238462643383279')\n",
        "\n",
        "epsilon_1 = Decimal('-0.8231640121031083001668093853')\n",
        "epsilon_10 = Decimal('-0.2640428443803623767911140015')\n",
        "\n",
        "def LBepsilon(idx, m):\n",
        "  eps = epsilon_1 if m==1 else epsilon_10\n",
        "  i = 0\n",
        "\n",
        "  n = idx[len(idx)-1]\n",
        "  C = Decimal.sqrt(Decimal(2)*pi)/Decimal(8)\n",
        "  LB = []\n",
        "  one = Decimal(1)\n",
        "  pw = Decimal(1.5)\n",
        "  s = Decimal(0)\n",
        "  for k in range(m+1,n+1):\n",
        "    kd = Decimal(k)\n",
        "    s += one/kd**pw\n",
        "    if(idx[i]==k):\n",
        "      LB.append(eps + C*s)\n",
        "      i += 1\n",
        "  return LB\n",
        "\n",
        "def RBepsilon(idx, m):\n",
        "  eps = epsilon_1 if m==1 else epsilon_10\n",
        "  i = 0\n",
        "\n",
        "  n = idx[len(idx)-1]\n",
        "  C1 = Decimal.sqrt(Decimal(2)*pi)/Decimal(4)\n",
        "  C2 = Decimal.sqrt(Decimal(2)*pi)/Decimal(2)\n",
        "  RB = []\n",
        "\n",
        "  one = Decimal(1)\n",
        "  pw = Decimal(1.5)\n",
        "  pw2 = Decimal(2.5)\n",
        "  f = Decimal(0.25)\n",
        "  s1 = Decimal(0)\n",
        "  s2 = Decimal(0)\n",
        "  for k in range(m+1,n+1):\n",
        "    kd = Decimal(k)\n",
        "    s1 += one/kd**pw\n",
        "    s2 += one/kd**pw2\n",
        "    if(idx[i]==k):\n",
        "      RB.append(eps + C1*s1+C2*s2)\n",
        "      i += 1\n",
        "  return RB\n",
        "\n",
        "def prn(m):\n",
        "  idx = [m+1] + [int(10**k) for k in range(1 if m==1 else 2, 4)]\n",
        "  shift = 1 if m==10 else 0\n",
        "\n",
        "  latex = True\n",
        "\n",
        "  LB = LBepsilon(idx, m)\n",
        "  RB = RBepsilon(idx, m)\n",
        "  if(latex):\n",
        "    print('$', m+1, '$ & $', LB[0], '$ & $', RB[0], '$ \\\\\\\\', sep='')\n",
        "  else:\n",
        "    print(m+1, ',', LB[0], ',', RB[0], sep='')\n",
        "\n",
        "  for k in range(1,len(idx)):\n",
        "    if(latex):\n",
        "      print('$10^{', k+shift, '}$ & $', LB[k], '$ & $', RB[k], '$ \\\\\\\\', sep='')\n",
        "    else:\n",
        "      print('10^', k+shift, ',', LB[k], ',', RB[k], sep='')\n",
        "\n",
        "  zeta_1_5 = Decimal('2.6123753486854883433485675679')\n",
        "  zeta_2_5 = Decimal('1.3414872572509171797567696933')\n",
        "  eps = epsilon_1 if m==1 else epsilon_10\n",
        "  sl1_m = Decimal(1) if m==1 else Decimal('1.9953364933456017145216935927')\n",
        "  sr1_m = Decimal(3) if m==1 else Decimal('4.6391781647787037516571962109')\n",
        "  LBInfty = eps + Decimal.sqrt(Decimal(2)*pi)/Decimal(8)*(zeta_1_5-sl1_m)\n",
        "  RBInfty = eps + Decimal.sqrt(Decimal(2)*pi)/Decimal(4)*(zeta_1_5+Decimal(2)*zeta_2_5-sr1_m)\n",
        "  if(latex):\n",
        "    print('$\\ldots$ & $\\ldots$ & $\\ldots$  \\\\\\\\')\n",
        "    print('$\\infty$ & $', LBInfty, '$ & $', RBInfty, '$ \\\\\\\\', sep='')\n",
        "  else:\n",
        "    print('... , ... , ...')\n",
        "    print('infinity ,', LBInfty, ',', RBInfty, sep='')\n",
        "\n",
        "#Main program\n",
        "print('Table 10')\n",
        "prn(1)\n",
        "\n",
        "print('Table 11')\n",
        "prn(10)"
      ],
      "metadata": {
        "colab": {
          "base_uri": "https://localhost:8080/"
        },
        "id": "DlnlTMA30Qkh",
        "outputId": "f0d23a4d-2762-40bf-c7a9-a6b22c1201e2"
      },
      "execution_count": null,
      "outputs": [
        {
          "output_type": "stream",
          "name": "stdout",
          "text": [
            "Table 10\n",
            "[2, 10, 100, 1000]\n",
            "[Decimal('-0.7123856464215135484606739176'), Decimal('-0.5112966874790888078497126043'), Decimal('-0.3804702415650424710035166828'), Decimal('-0.3377724908789230138465834197')]\n",
            "[Decimal('-0.3800505493767292933422675146'), Decimal('0.2040385716449047054577197496'), Decimal('0.4893850339011433289766096606'), Decimal('0.5755834351973273637799904536')]\n",
            "$2$ & $-0.7123856464215135484606739176$ & $-0.3800505493767292933422675146$ \\\\\n",
            "$10^{1}$ & $-0.5112966874790888078497126043$ & $0.2040385716449047054577197496$ \\\\\n",
            "$10^{2}$ & $-0.3804702415650424710035166828$ & $0.4893850339011433289766096606$ \\\\\n",
            "$10^{3}$ & $-0.3377724908789230138465834197$ & $0.5755834351973273637799904536$ \\\\\n",
            "$\\ldots$ & $\\ldots$ & $\\ldots$  \\\\\n",
            "$\\infty$ & $-0.3179608073114753664120247373$ & $0.6152332047058271403950448027$ \\\\\n",
            "Table 11\n",
            "[11, 100, 1000]\n",
            "[Decimal('-0.2554544709549006415851164149'), Decimal('-0.1332163984663160399449180803'), Decimal('-0.0905186477801965827879848190')]\n",
            "[Decimal('-0.2437430526474528208496651606'), Decimal('0.02130361787587624672777590829'), Decimal('0.1075020191720602815311566967')]\n",
            "$11$ & $-0.2554544709549006415851164149$ & $-0.2437430526474528208496651606$ \\\\\n",
            "$10^{2}$ & $-0.1332163984663160399449180803$ & $0.02130361787587624672777590829$ \\\\\n",
            "$10^{3}$ & $-0.0905186477801965827879848190$ & $0.1075020191720602815311566967$ \\\\\n",
            "$\\ldots$ & $\\ldots$ & $\\ldots$  \\\\\n",
            "$\\infty$ & $-0.0707069642127489353534261345$ & $0.1471517886805600581462110513$ \\\\\n"
          ]
        }
      ]
    },
    {
      "cell_type": "markdown",
      "source": [
        "<h2>Theorem 51</h2>\n",
        "$\\displaystyle  L_m - \\frac{\\sqrt{2\\pi}}{4\\sqrt{n+1}} \\le \\varepsilon_{n} \\le R_m - \\frac{\\sqrt{2\\pi}}{2\\sqrt{n}} - \\frac{\\sqrt{2\\pi}}{3\\sqrt{n^3}}$ for all natural number $n \\ge 1$ all $1 \\le m \\le n$. Here, $\\displaystyle L_m = \\varepsilon_{m} + \\frac{\\sqrt{2\\pi}}{4\\sqrt{m+1}}$ and $\\displaystyle R_m = \\varepsilon_{m} + \\frac{\\sqrt{2\\pi}}{2\\sqrt{m}} + \\frac{\\sqrt{2\\pi}}{3\\sqrt{m^3}}$.\n",
        "\n",
        "<h3>Table 12</h3>\n",
        "$m=1$\n",
        "<h3>Table 13</h3>\n",
        "$m=10$\n"
      ],
      "metadata": {
        "id": "ZlJ20gDD4xRo"
      }
    },
    {
      "cell_type": "code",
      "source": [
        "import math\n",
        "from decimal import *\n",
        "\n",
        "pi = Decimal('3.141592653589793238462643383279')\n",
        "epsilon_1 = Decimal('-0.8231640121031083001668093853')\n",
        "epsilon_10 = Decimal('-0.2640428443803623767911140015')\n",
        "\n",
        "def Lm(m):\n",
        "  eps = epsilon_1 if m==1 else epsilon_10\n",
        "  C = Decimal.sqrt(Decimal(2)*pi)/Decimal(4)\n",
        "  return eps + C/Decimal.sqrt(Decimal(m+1))\n",
        "\n",
        "def Rm(m):\n",
        "  eps = epsilon_1 if m==1 else epsilon_10\n",
        "  C = Decimal.sqrt(Decimal(2)*pi)\n",
        "  return eps + C/(Decimal(2)*Decimal.sqrt(Decimal(m))) + C/(Decimal(3)*(Decimal(m)**Decimal(1.5)))\n",
        "\n",
        "def LBepsilon(n, m):\n",
        "  C = Decimal.sqrt(Decimal(2)*pi)/Decimal(4)\n",
        "  L_m = Lm(m)\n",
        "  return L_m - C/Decimal.sqrt(Decimal(n+1))\n",
        "\n",
        "def RBepsilon(n,m):\n",
        "  C = Decimal.sqrt(Decimal(2)*pi)\n",
        "  R_m = Rm(m)\n",
        "  return R_m - C/(Decimal(2)*Decimal.sqrt(Decimal(n))) - C/(Decimal(3)*(Decimal(n)**Decimal(1.5)))\n",
        "\n",
        "def table(m, idx):\n",
        "  lm = Lm(m)\n",
        "  rm = Rm(m)\n",
        "  LB = [LBepsilon(k, m) for k in idx]\n",
        "  RB = [RBepsilon(k, m) for k in idx]\n",
        "\n",
        "  shift = 1 if m==1 else 2\n",
        "\n",
        "  latex = True\n",
        "  for k in range(m+1,10 if m==1 else 12):\n",
        "    if(latex):\n",
        "      print('$', k, '$ & $', LBepsilon(k, m), '$ & $', RBepsilon(k, m), '$ \\\\\\\\', sep='')\n",
        "    else:\n",
        "      print(k, ',', LBepsilon(k, m), ',', RBepsilon(k, m), sep='')\n",
        "\n",
        "  for k in range(len(idx)):\n",
        "    if(latex):\n",
        "      print('$10^{', k+shift, '}$ & $', LB[k], '$ & $', RB[k], '$ \\\\\\\\', sep='')\n",
        "    else:\n",
        "      print('10^', k+shift, ',', LB[k], ',', RB[k], sep='')\n",
        "\n",
        "  if(latex):\n",
        "    print('$\\ldots$ & $\\ldots$ & $\\ldots$  \\\\\\\\')\n",
        "    print('$\\infty$ & $', lm, '$ & $', rm, '$ \\\\\\\\', sep='')\n",
        "  else:\n",
        "    print('... , ... , ...')\n",
        "    print('infinity ,', lm, ',', rm, sep='')\n",
        "\n",
        "#Main program\n",
        "\n",
        "print('Table 12')\n",
        "idx = [int(10**k) for k in range(1,7)]\n",
        "table(1, idx)\n",
        "\n",
        "print('Table 13')\n",
        "idx = [int(10**k) for k in range(2,7)]\n",
        "table(10, idx)\n"
      ],
      "metadata": {
        "colab": {
          "base_uri": "https://localhost:8080/"
        },
        "id": "M1mDH_W542oY",
        "outputId": "a3e3a848-a34e-409d-9c71-ea995a74e734"
      },
      "execution_count": null,
      "outputs": [
        {
          "output_type": "stream",
          "name": "stdout",
          "text": [
            "Table 12\n",
            "$2$ & $-0.7418511766558631230237748279$ & $0.0840569828190481003142166961$ \\\\\n",
            "$3$ & $-0.6933790837056043561442381750$ & $0.3812913500737316459581993633$ \\\\\n",
            "$4$ & $-0.6603001101966257283078316361$ & $0.5345929699886836386417301439$ \\\\\n",
            "$5$ & $-0.6358822263633514154621554206$ & $0.6304605455642935325910496761$ \\\\\n",
            "$6$ & $-0.6169046580894629440899329521$ & $0.6971780456746762915799107827$ \\\\\n",
            "$7$ & $-0.6016072807399187967545384498$ & $0.7468695976710231692562040600$ \\\\\n",
            "$8$ & $-0.5889362389293126685435812881$ & $0.7856532988024815277864079919$ \\\\\n",
            "$9$ & $-0.5782169142570298440095189527$ & $0.8169754762356944977101728380$ \\\\\n",
            "$10^{1}$ & $-0.5689947647368874678742144186$ & $0.8429379716780842770895252836$ \\\\\n",
            "$10^{2}$ & $-0.4424052582589728866331743030$ & $1.139525926932965093224734833$ \\\\\n",
            "$10^{3}$ & $-0.3998572849715667312294760708$ & $1.226033188264681301639455764$ \\\\\n",
            "$10^{4}$ & $-0.3863168067582701476659063219$ & $1.253158906506812239000748721$ \\\\\n",
            "$10^{5}$ & $-0.3820322031172883666014781364$ & $1.261729529702937456792909901$ \\\\\n",
            "$10^{6}$ & $-0.3806772061320587441352013094$ & $1.264439568449867193384786968$ \\\\\n",
            "$\\ldots$ & $\\ldots$ & $\\ldots$  \\\\\n",
            "$\\infty$ & $-0.3800505493767292933422675144$ & $1.265692883422725451846328352$ \\\\\n",
            "Table 13\n",
            "$11$ & $-0.2559989426597711170999207541$ & $-0.2420786924906021783141983058$ \\\\\n",
            "$10^{2}$ & $-0.1374533379024477955500738859$ & $0.03254511087451843934409554760$ \\\\\n",
            "$10^{3}$ & $-0.09490536461504164014637565373$ & $0.1190523722062346477588164790$ \\\\\n",
            "$10^{4}$ & $-0.08136488640174505658280590477$ & $0.1461780904483655851201094352$ \\\\\n",
            "$10^{5}$ & $-0.07708028276076327551837771934$ & $0.1547487136444908029122706158$ \\\\\n",
            "$10^{6}$ & $-0.07572528577553365305210089231$ & $0.1574587523914205395041476835$ \\\\\n",
            "$\\ldots$ & $\\ldots$ & $\\ldots$  \\\\\n",
            "$\\infty$ & $-0.0750986290202042022591670973$ & $0.1587120673642787979656890669$ \\\\\n"
          ]
        }
      ]
    }
  ]
}